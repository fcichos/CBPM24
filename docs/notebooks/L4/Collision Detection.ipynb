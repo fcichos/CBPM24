{
 "cells": [
  {
   "cell_type": "code",
   "execution_count": 1,
   "metadata": {
    "editable": true,
    "slideshow": {
     "slide_type": ""
    },
    "tags": []
   },
   "outputs": [],
   "source": [
    "import numpy as np\n",
    "from time import sleep\n",
    "import bqplot.pyplot as plt"
   ]
  },
  {
   "cell_type": "code",
   "execution_count": 2,
   "metadata": {
    "editable": true,
    "slideshow": {
     "slide_type": ""
    },
    "tags": []
   },
   "outputs": [],
   "source": [
    "class Solver:\n",
    "    gravity=np.array([0.,-10.])\n",
    "    world_size=np.array([400.,400.])\n",
    "    \n",
    "    def __init__(self,dt,objects):\n",
    "        self.dt=dt\n",
    "        self.objects=objects\n",
    "\n",
    "    def update(self,dt,steps):\n",
    "        self.sub_dt=dt/steps\n",
    "        for i in range(steps):\n",
    "            self.find_collisions()\n",
    "            self.update_all(self.sub_dt)\n",
    "            \n",
    "    def find_collisions(self):\n",
    "        for p1 in self.objects:\n",
    "            for p2 in self.objects:\n",
    "                if p1!=p2:\n",
    "                    self.solve_collision(p1,p2)\n",
    "\n",
    "    def solve_collision(self,p1,p2):\n",
    "        distance_vec=p1.position-p2.position\n",
    "        d=p1.radius+p2.radius\n",
    "        distance2 =np.sum(distance_vec**2)\n",
    "        if distance2<d**2 and distance2>0.:\n",
    "            dist=np.sqrt(distance2)\n",
    "            delta = 0.5*(d-dist)\n",
    "            vec=delta*(distance_vec/dist)\n",
    "            p1.position=p1.position+vec\n",
    "            p2.position=p2.position-vec        \n",
    "        \n",
    "    def update_all(self,dt):\n",
    "        for object in self.objects:\n",
    "            object.acceleration+=self.gravity\n",
    "            object.update(dt)\n",
    "            margin=10\n",
    "            if object.position[0]>self.world_size[0]-margin:\n",
    "                object.position[0]=self.world_size[0]-margin\n",
    "            elif object.position[0]<margin:\n",
    "                object.position[0]=margin\n",
    "            if object.position[1]>self.world_size[1]-margin:\n",
    "                object.position[1]=self.world_size[1]-margin\n",
    "            elif object.position[1]<margin:\n",
    "                object.position[1]=margin     "
   ]
  },
  {
   "cell_type": "code",
   "execution_count": 3,
   "metadata": {
    "editable": true,
    "slideshow": {
     "slide_type": ""
    },
    "tags": []
   },
   "outputs": [],
   "source": [
    "class Particle:\n",
    "    def __init__(self,R,p,v):\n",
    "        self.position=p        \n",
    "        self.last_position=p\n",
    "        self.acceleration=np.array([0.,0.])\n",
    "        self.radius=R\n",
    "        self.velocity=v\n",
    "        \n",
    "    def set_position(self,position):\n",
    "        self.position=position\n",
    "        \n",
    "    def update(self,dt):\n",
    "        last_update_move=self.position-self.last_position\n",
    "        new_position=self.position+last_update_move+self.acceleration*dt*dt\n",
    "        self.last_position=self.position\n",
    "        self.position=new_position\n",
    "        self.acceleration=np.array([0.,0.])\n",
    "        "
   ]
  },
  {
   "cell_type": "code",
   "execution_count": 4,
   "metadata": {
    "editable": true,
    "slideshow": {
     "slide_type": ""
    },
    "tags": []
   },
   "outputs": [],
   "source": [
    "\n",
    "p=[Particle(10,np.array([400*np.random.rand(),400*np.random.rand()]),np.array([0.,0.])) for i in range(100)]"
   ]
  },
  {
   "cell_type": "code",
   "execution_count": 5,
   "metadata": {
    "editable": true,
    "slideshow": {
     "slide_type": ""
    },
    "tags": []
   },
   "outputs": [],
   "source": [
    "s=Solver(0.1,p)\n",
    "x=[]\n",
    "y=[]\n",
    "for object in p:\n",
    "    x.append(object.position[0])\n",
    "    y.append(object.position[1])"
   ]
  },
  {
   "cell_type": "code",
   "execution_count": 6,
   "metadata": {
    "editable": true,
    "slideshow": {
     "slide_type": ""
    },
    "tags": []
   },
   "outputs": [],
   "source": [
    "def runsim():\n",
    "    for i in range(100):\n",
    "        s.update(0.2,4)\n",
    "        with sc.hold_sync():\n",
    "            x=[]\n",
    "            y=[]\n",
    "            for object in p:\n",
    "                x.append(object.position[0])\n",
    "                y.append(object.position[1])\n",
    "            sc.x=x\n",
    "            sc.y=y\n"
   ]
  },
  {
   "cell_type": "code",
   "execution_count": 7,
   "metadata": {
    "tags": []
   },
   "outputs": [
    {
     "data": {
      "application/vnd.jupyter.widget-view+json": {
       "model_id": "77a3d76e06d54309a76138a7a8e63620",
       "version_major": 2,
       "version_minor": 0
      },
      "text/plain": [
       "Figure(axes=[Axis(scale=LinearScale(max=400.0, min=0.0)), Axis(orientation='vertical', scale=LinearScale(max=4…"
      ]
     },
     "execution_count": 7,
     "metadata": {},
     "output_type": "execute_result"
    }
   ],
   "source": [
    "fig=plt.figure(layout=dict(height=\"500px\", width=\"500px\"))\n",
    "sc=plt.scatter(x,y,default_size=200)\n",
    "plt.xlim(0,400)\n",
    "plt.ylim(0,400)\n",
    "fig\n"
   ]
  },
  {
   "cell_type": "code",
   "execution_count": null,
   "metadata": {},
   "outputs": [],
   "source": [
    "runsim()"
   ]
  },
  {
   "cell_type": "code",
   "execution_count": null,
   "metadata": {},
   "outputs": [],
   "source": []
  }
 ],
 "metadata": {
  "kernelspec": {
   "display_name": "Python 3 (ipykernel)",
   "language": "python",
   "name": "python3"
  },
  "language_info": {
   "codemirror_mode": {
    "name": "ipython",
    "version": 3
   },
   "file_extension": ".py",
   "mimetype": "text/x-python",
   "name": "python",
   "nbconvert_exporter": "python",
   "pygments_lexer": "ipython3",
   "version": "3.8.16"
  }
 },
 "nbformat": 4,
 "nbformat_minor": 4
}
