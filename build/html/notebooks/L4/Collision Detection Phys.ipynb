{
 "cells": [
  {
   "cell_type": "markdown",
   "metadata": {},
   "source": [
    "# Simple Collision Detection"
   ]
  },
  {
   "cell_type": "markdown",
   "metadata": {},
   "source": [
    "In particle simulations it is sometimes useful to detect collisions. This can be done for the sake of visualization or to really simulate physical collisions.\n",
    "Since we now know about classes. We will use this knowledge to imlement some basic collision detection to our particle system. The method we use for collision detection in this code is a simplified model and is not entirely physically correct. It's a basic form of collision detection and resolution that checks if two objects are overlapping and then pushes them apart.\n",
    "\n",
    "In a more physically accurate model, you would also consider factors like:\n",
    "\n",
    "- **Elasticity:** When two objects collide, they don't just stop or move away from each other. They bounce off each other with a certain amount of energy depending on their elasticity.\n",
    "\n",
    "- **Momentum Conservation:** In a real-world collision, the total momentum of the system (the sum of the momenta of the two colliding objects) is conserved before and after the collision.\n",
    "\n",
    "- **Angular Momentum:** If the collision is not head-on (i.e., the objects don't hit each other directly in the center), it can cause rotation.\n",
    "\n",
    "- **Friction:** This could also play a role in the collision, depending on the surfaces of the colliding objects.\n",
    "\n",
    "For the moment we would like to skip these physical complications and just implement a simple version. Later in the notebook you will get a more physically correct version."
   ]
  },
  {
   "cell_type": "code",
   "execution_count": 24,
   "metadata": {
    "editable": true,
    "slideshow": {
     "slide_type": ""
    },
    "tags": []
   },
   "outputs": [],
   "source": [
    "import numpy as np\n",
    "from time import sleep\n",
    "import bqplot.pyplot as plt\n",
    "import matplotlib.colors as mcolors"
   ]
  },
  {
   "cell_type": "markdown",
   "metadata": {},
   "source": [
    "We actually split the task into a `solver class`, which is responsible for the time stepping through the animation and solving the collisions as well as `particle class` which represents the particle and holds all its properties.\n",
    "\n",
    "The main ingredient for the solver is the solve_collision. This function looks for the overlap of two particles by calculating their distance. If the distance is smaller than the sum of their radii, then a collision occurs. To correct this collision, both particles involved in the colision are pushed back by the same amount `delta*(distance_vec/dist)`. While this is only done for a pair always, it might create trouble for other pairs. Yet we ignore all that. Also note that this is not according to the momentum conservation, as both particle are pushed along the connecting line by the same amount. "
   ]
  },
  {
   "cell_type": "code",
   "execution_count": 25,
   "metadata": {
    "editable": true,
    "slideshow": {
     "slide_type": ""
    },
    "tags": []
   },
   "outputs": [],
   "source": [
    "class Solver:\n",
    "    gravity=np.array([0.,-10.])\n",
    "    world_size=np.array([400.,400.])\n",
    "    \n",
    "    def __init__(self,dt,objects):\n",
    "        self.dt=dt\n",
    "        self.objects=objects\n",
    "\n",
    "    def update(self,dt,steps):\n",
    "        self.sub_dt=dt/steps\n",
    "        for i in range(steps):\n",
    "            self.find_collisions()\n",
    "            self.update_all(self.sub_dt)\n",
    "            \n",
    "    def find_collisions(self):\n",
    "        for p1 in self.objects:\n",
    "            for p2 in self.objects:\n",
    "                if p1!=p2:\n",
    "                    self.solve_collision(p1,p2)\n",
    "\n",
    "    def solve_collision(self,p1,p2):\n",
    "        distance_vec=p1.position-p2.position\n",
    "        d=p1.radius+p2.radius\n",
    "        distance2 =np.sum(distance_vec**2)\n",
    "        if distance2<d**2 and distance2>0.:\n",
    "            dist=np.sqrt(distance2)\n",
    "            delta = 0.5*(d-dist)\n",
    "            vec=delta*(distance_vec/dist)\n",
    "            p1.position=p1.position+vec\n",
    "            p2.position=p2.position-vec        \n",
    "        \n",
    "    def update_all(self,dt):\n",
    "        for object in self.objects:\n",
    "            object.acceleration+=self.gravity\n",
    "            object.update(dt)\n",
    "            margin=10\n",
    "            if object.position[0]>self.world_size[0]-margin:\n",
    "                object.position[0]=self.world_size[0]-margin\n",
    "            elif object.position[0]<margin:\n",
    "                object.position[0]=margin\n",
    "            if object.position[1]>self.world_size[1]-margin:\n",
    "                object.position[1]=self.world_size[1]-margin\n",
    "            elif object.position[1]<margin:\n",
    "                object.position[1]=margin     "
   ]
  },
  {
   "cell_type": "markdown",
   "metadata": {},
   "source": [
    "The class below is the particle class, which holds all details of the particle and updates the particles position according to acceleration and speed. It ignores, however, all the collision, which are addressed by the Solver."
   ]
  },
  {
   "cell_type": "code",
   "execution_count": 38,
   "metadata": {
    "editable": true,
    "slideshow": {
     "slide_type": ""
    },
    "tags": []
   },
   "outputs": [],
   "source": [
    "class Particle:\n",
    "    def __init__(self,R,p):\n",
    "        self.position=p        \n",
    "        self.last_position=p\n",
    "        self.acceleration=np.array([0.,0.])\n",
    "        self.radius=R\n",
    "        #self.velocity=v\n",
    "        \n",
    "    def set_position(self,position):\n",
    "        self.position=position\n",
    "        \n",
    "    def update(self,dt):\n",
    "        last_update_move=self.position-self.last_position\n",
    "        new_position=self.position+last_update_move+self.acceleration*dt*dt\n",
    "        self.last_position=self.position\n",
    "        self.position=new_position\n",
    "        self.acceleration=np.array([0.,0.])\n",
    "        "
   ]
  },
  {
   "cell_type": "markdown",
   "metadata": {},
   "source": [
    "Below we just generate a list of particles that we can supply to the solver. "
   ]
  },
  {
   "cell_type": "code",
   "execution_count": 27,
   "metadata": {
    "editable": true,
    "slideshow": {
     "slide_type": ""
    },
    "tags": []
   },
   "outputs": [],
   "source": [
    "p=[Particle(10,np.array([400*np.random.rand(),400*np.random.rand()]))) for i in range(100)]"
   ]
  },
  {
   "cell_type": "markdown",
   "metadata": {},
   "source": [
    "## Initializing the simulation\n",
    "\n",
    "This creates a solver object and initializes a list of positions for drawing."
   ]
  },
  {
   "cell_type": "code",
   "execution_count": 28,
   "metadata": {
    "editable": true,
    "slideshow": {
     "slide_type": ""
    },
    "tags": []
   },
   "outputs": [],
   "source": [
    "s=Solver(0.1,p)\n",
    "x=[]\n",
    "y=[]\n",
    "for object in p:\n",
    "    x.append(object.position[0])\n",
    "    y.append(object.position[1])"
   ]
  },
  {
   "cell_type": "markdown",
   "metadata": {},
   "source": [
    "## Function to run the simulation"
   ]
  },
  {
   "cell_type": "code",
   "execution_count": 29,
   "metadata": {
    "editable": true,
    "slideshow": {
     "slide_type": ""
    },
    "tags": []
   },
   "outputs": [],
   "source": [
    "def runsim():\n",
    "    for i in range(100):\n",
    "        s.update(0.2,4)\n",
    "        with sc.hold_sync():\n",
    "            x=[]\n",
    "            y=[]\n",
    "            for object in p:\n",
    "                x.append(object.position[0])\n",
    "                y.append(object.position[1])\n",
    "            sc.x=x\n",
    "            sc.y=y\n",
    "        sleep(0.02)\n"
   ]
  },
  {
   "cell_type": "markdown",
   "metadata": {},
   "source": [
    "## Plotting\n",
    "\n",
    "The function below provides the plotting by using the scatter function of the `bqplot` module. We can later use the `sc` object to update the coordinates, which will update the positions of the markers. This is another simple way to do that, as long as the drawing library allows continuous updates of the canvas.\n"
   ]
  },
  {
   "cell_type": "code",
   "execution_count": 30,
   "metadata": {
    "tags": []
   },
   "outputs": [
    {
     "data": {
      "application/vnd.jupyter.widget-view+json": {
       "model_id": "6e0e8d8e23464bc49dbb082ba4c9a740",
       "version_major": 2,
       "version_minor": 0
      },
      "text/plain": [
       "Figure(axes=[Axis(scale=LinearScale(max=400.0, min=0.0)), Axis(orientation='vertical', scale=LinearScale(max=4…"
      ]
     },
     "execution_count": 30,
     "metadata": {},
     "output_type": "execute_result"
    }
   ],
   "source": [
    "fig=plt.figure(layout=dict(height=\"500px\", width=\"500px\"))\n",
    "sc=plt.scatter(x,y,default_size=200)\n",
    "plt.xlim(0,400)\n",
    "plt.ylim(0,400)\n",
    "fig\n"
   ]
  },
  {
   "cell_type": "code",
   "execution_count": 31,
   "metadata": {},
   "outputs": [],
   "source": [
    "runsim()"
   ]
  },
  {
   "cell_type": "markdown",
   "metadata": {},
   "source": [
    "# Physically more correct solver"
   ]
  },
  {
   "cell_type": "code",
   "execution_count": 32,
   "metadata": {
    "tags": []
   },
   "outputs": [],
   "source": [
    "class SolverPhys:\n",
    "    gravity=np.array([0.,-10.])\n",
    "    world_size=np.array([400.,400.])\n",
    "    \n",
    "    def __init__(self,dt,objects):\n",
    "        self.dt=dt\n",
    "        self.objects=objects\n",
    "\n",
    "    def update(self,dt,steps):\n",
    "        self.sub_dt=dt/steps\n",
    "        for i in range(steps):\n",
    "            self.find_collisions()\n",
    "            self.update_all(self.sub_dt)\n",
    "            \n",
    "    def find_collisions(self):\n",
    "        for p1 in self.objects:\n",
    "            for p2 in self.objects:\n",
    "                if p1!=p2:\n",
    "                    self.solve_collision(p1,p2)\n",
    "\n",
    "    def solve_collision(self, p1, p2):\n",
    "        distance_vec = p1.position - p2.position\n",
    "        d = p1.radius + p2.radius\n",
    "        distance2 = np.sum(distance_vec**2)\n",
    "        if distance2 < d**2 and distance2 > 0.:\n",
    "            dist = np.sqrt(distance2)\n",
    "            delta = 0.5 * (d - dist)\n",
    "            vec = delta * (distance_vec / dist)\n",
    "            p1.position = p1.position + vec\n",
    "            p2.position = p2.position - vec\n",
    "\n",
    "            # Calculate the normal and tangent vectors\n",
    "            normal = (p1.position - p2.position) / np.linalg.norm(p1.position - p2.position)\n",
    "            tangent = np.array([-normal[1], normal[0]])\n",
    "\n",
    "            # Calculate the velocities in the normal and tangent directions for both particles\n",
    "            v1n = np.dot(normal, p1.velocity)\n",
    "            v1t = np.dot(tangent, p1.velocity)\n",
    "            v2n = np.dot(normal, p2.velocity)\n",
    "            v2t = np.dot(tangent, p2.velocity)\n",
    "\n",
    "            # Calculate the new velocities in the normal direction after collision\n",
    "            v1n_new = (v1n * (p1.mass - p2.mass) + 2 * p2.mass * v2n) / (p1.mass + p2.mass)\n",
    "            v2n_new = (v2n * (p2.mass - p1.mass) + 2 * p1.mass * v1n) / (p1.mass + p2.mass)\n",
    "\n",
    "            # Update the velocities\n",
    "            p1.velocity = v1n_new * normal + v1t * tangent\n",
    "            p2.velocity = v2n_new * normal + v2t * tangent      \n",
    "        \n",
    "    def update_all(self,dt):\n",
    "        for object in self.objects:\n",
    "            object.acceleration+=self.gravity\n",
    "            object.update(dt)\n",
    "            margin=10\n",
    "            if object.position[0]>self.world_size[0]-margin:\n",
    "                object.position[0]=self.world_size[0]-margin\n",
    "            elif object.position[0]<margin:\n",
    "                object.position[0]=margin\n",
    "            if object.position[1]>self.world_size[1]-margin:\n",
    "                object.position[1]=self.world_size[1]-margin\n",
    "            elif object.position[1]<margin:\n",
    "                object.position[1]=margin     "
   ]
  },
  {
   "cell_type": "code",
   "execution_count": 33,
   "metadata": {
    "tags": []
   },
   "outputs": [],
   "source": [
    "class ParticlePhys:\n",
    "    def __init__(self,R,p,v,m):\n",
    "        self.position=p        \n",
    "        self.last_position=p\n",
    "        self.acceleration=np.array([0.,0.])\n",
    "        self.radius=R\n",
    "        self.velocity=v\n",
    "        self.mass=m\n",
    "        \n",
    "        \n",
    "    def set_position(self,position):\n",
    "        self.position=position\n",
    "        \n",
    "    def update(self,dt):\n",
    "        last_update_move=self.position-self.last_position\n",
    "        new_position=self.position+last_update_move+self.acceleration*dt*dt\n",
    "        self.last_position=self.position\n",
    "        self.position=new_position\n",
    "        self.acceleration=np.array([0.,0.])\n",
    "        "
   ]
  },
  {
   "cell_type": "code",
   "execution_count": 34,
   "metadata": {
    "tags": []
   },
   "outputs": [],
   "source": [
    "p=[ParticlePhys(10,np.array([400*np.random.rand(),400*np.random.rand()]),np.array([0.,0.]), np.random.rand()) for i in range(100)]"
   ]
  },
  {
   "cell_type": "code",
   "execution_count": 35,
   "metadata": {
    "tags": []
   },
   "outputs": [],
   "source": [
    "s=SolverPhys(0.01,p)\n",
    "x=[]\n",
    "y=[]\n",
    "for object in p:\n",
    "    x.append(object.position[0])\n",
    "    y.append(object.position[1])"
   ]
  },
  {
   "cell_type": "code",
   "execution_count": 36,
   "metadata": {
    "tags": []
   },
   "outputs": [
    {
     "data": {
      "application/vnd.jupyter.widget-view+json": {
       "model_id": "6a04f3b634aa450ab0192445c7b7fcbc",
       "version_major": 2,
       "version_minor": 0
      },
      "text/plain": [
       "Figure(axes=[Axis(scale=LinearScale(max=400.0, min=0.0)), Axis(orientation='vertical', scale=LinearScale(max=4…"
      ]
     },
     "execution_count": 36,
     "metadata": {},
     "output_type": "execute_result"
    }
   ],
   "source": [
    "\n",
    "\n",
    "fig=plt.figure(layout=dict(height=\"500px\", width=\"500px\"))\n",
    "masses = np.array([particle.mass for particle in p])\n",
    "masses_normalized = (masses - masses.min()) / (masses.max() - masses.min())\n",
    "colors = [mcolors.to_hex((0, 0, 1-m, m)) for m in masses_normalized]\n",
    "sc=plt.scatter(x,y,default_size=200, colors=colors)\n",
    "plt.xlim(0,400)\n",
    "plt.ylim(0,400)\n",
    "fig"
   ]
  },
  {
   "cell_type": "code",
   "execution_count": 37,
   "metadata": {
    "tags": []
   },
   "outputs": [],
   "source": [
    "runsim()"
   ]
  },
  {
   "cell_type": "code",
   "execution_count": null,
   "metadata": {},
   "outputs": [],
   "source": []
  }
 ],
 "metadata": {
  "kernelspec": {
   "display_name": "Python 3 (ipykernel)",
   "language": "python",
   "name": "python3"
  },
  "language_info": {
   "codemirror_mode": {
    "name": "ipython",
    "version": 3
   },
   "file_extension": ".py",
   "mimetype": "text/x-python",
   "name": "python",
   "nbconvert_exporter": "python",
   "pygments_lexer": "ipython3",
   "version": "3.8.16"
  },
  "widgets": {
   "application/vnd.jupyter.widget-state+json": {
    "state": {},
    "version_major": 2,
    "version_minor": 0
   }
  }
 },
 "nbformat": 4,
 "nbformat_minor": 4
}
