{
 "cells": [
  {
   "cell_type": "markdown",
   "metadata": {
    "slideshow": {
     "slide_type": "slide"
    }
   },
   "source": [
    "# Data Types in Python"
   ]
  },
  {
   "cell_type": "markdown",
   "metadata": {
    "slideshow": {
     "slide_type": "subslide"
    }
   },
   "source": [
    "It's time to look at different data types we may find useful in our course. Besides the number types mentioned previously, there are also other types like **strings**, **lists**, **tuples**, **dictionaries** and **sets**. \n",
    "\n",
    "| Data Types | Classes | Description |\n",
    "| :--- | :--- | :--- |\n",
    "| Numeric | int, float, complex | holds numeric values |\n",
    "| String | str | stores sequence of characters |\n",
    "| Sequence| list, tuple, range | stores collection of items |\n",
    "| Mapping | dict | stores data as a key-value:pair  |\n",
    "| Boolean | bool | holds either True or False | \n",
    "| Set | set, frozeenset | hold collection of unique items |\n",
    "\n",
    "\n",
    "\n",
    "Each of these data types has a number of connected `methods` (functions) which allow to manipulate the data contained in a variable. If you want to know which methods are available for a certain object use the command `dir`, e.g.\n",
    "\n",
    "~~~\n",
    "s=\"string\"\n",
    "dir(s)\n",
    "~~~\n",
    "\n",
    "The following few cells will give you a short introduction into each type. "
   ]
  },
  {
   "cell_type": "markdown",
   "metadata": {
    "slideshow": {
     "slide_type": "slide"
    }
   },
   "source": [
    "## Strings\n",
    "\n",
    "**Strings** are lists of keyboard characters as well as other characters not on your keyboard. They are useful for printing results on the screen, during reading and writing of data."
   ]
  },
  {
   "cell_type": "code",
   "execution_count": 59,
   "metadata": {
    "ExecuteTime": {
     "end_time": "2018-04-16T15:05:13.381263Z",
     "start_time": "2018-04-16T15:05:13.378101Z"
    },
    "slideshow": {
     "slide_type": "fragment"
    },
    "tags": []
   },
   "outputs": [
    {
     "data": {
      "text/plain": [
       "str"
      ]
     },
     "execution_count": 59,
     "metadata": {},
     "output_type": "execute_result"
    }
   ],
   "source": [
    "s=\"Hello\" # string variable\n",
    "type(s)"
   ]
  },
  {
   "cell_type": "code",
   "execution_count": 60,
   "metadata": {
    "ExecuteTime": {
     "end_time": "2018-04-16T14:56:14.904816Z",
     "start_time": "2018-04-16T14:56:14.901345Z"
    },
    "slideshow": {
     "slide_type": "fragment"
    },
    "tags": []
   },
   "outputs": [],
   "source": [
    "t=\"world!\""
   ]
  },
  {
   "cell_type": "markdown",
   "metadata": {
    "slideshow": {
     "slide_type": "fragment"
    }
   },
   "source": [
    "String can be concatenated using the *+* operator. "
   ]
  },
  {
   "cell_type": "code",
   "execution_count": 66,
   "metadata": {
    "ExecuteTime": {
     "end_time": "2018-04-16T14:56:17.519251Z",
     "start_time": "2018-04-16T14:56:17.515677Z"
    },
    "slideshow": {
     "slide_type": "fragment"
    },
    "tags": []
   },
   "outputs": [],
   "source": [
    "c=s+' '+t"
   ]
  },
  {
   "cell_type": "code",
   "execution_count": 67,
   "metadata": {
    "ExecuteTime": {
     "end_time": "2018-04-16T14:56:20.568540Z",
     "start_time": "2018-04-16T14:56:20.564378Z"
    },
    "slideshow": {
     "slide_type": "fragment"
    },
    "tags": []
   },
   "outputs": [
    {
     "name": "stdout",
     "output_type": "stream",
     "text": [
      "Hello world!\n"
     ]
    }
   ],
   "source": [
    "print(c)"
   ]
  },
  {
   "cell_type": "markdown",
   "metadata": {
    "slideshow": {
     "slide_type": "subslide"
    }
   },
   "source": [
    "As strings are lists, each character in a string can be accessed by addressing the position in the string (see Lists section)"
   ]
  },
  {
   "cell_type": "code",
   "execution_count": 70,
   "metadata": {
    "ExecuteTime": {
     "end_time": "2018-04-16T14:56:23.033095Z",
     "start_time": "2018-04-16T14:56:23.027938Z"
    },
    "slideshow": {
     "slide_type": "fragment"
    },
    "tags": []
   },
   "outputs": [
    {
     "data": {
      "text/plain": [
       "'H'"
      ]
     },
     "execution_count": 70,
     "metadata": {},
     "output_type": "execute_result"
    }
   ],
   "source": [
    "c[0]"
   ]
  },
  {
   "cell_type": "markdown",
   "metadata": {
    "slideshow": {
     "slide_type": "fragment"
    }
   },
   "source": [
    "Strings can also be made out of numbers."
   ]
  },
  {
   "cell_type": "code",
   "execution_count": 71,
   "metadata": {
    "ExecuteTime": {
     "end_time": "2018-04-16T14:56:26.113138Z",
     "start_time": "2018-04-16T14:56:26.108211Z"
    },
    "slideshow": {
     "slide_type": "fragment"
    },
    "tags": []
   },
   "outputs": [
    {
     "data": {
      "text/plain": [
       "'975321'"
      ]
     },
     "execution_count": 71,
     "metadata": {},
     "output_type": "execute_result"
    }
   ],
   "source": [
    "\"975\"+\"321\""
   ]
  },
  {
   "cell_type": "markdown",
   "metadata": {
    "slideshow": {
     "slide_type": "subslide"
    }
   },
   "source": [
    "If you want to obtain a number of a string, you can use what is known as type casting. Using type casting you may convert the string or any other data type into a different type if this is possible. To find out if a string is a pure number you may use the `str.isnumeric` method. For the above string, we may want to do a conversion to the type *int* by typing:"
   ]
  },
  {
   "cell_type": "code",
   "execution_count": 72,
   "metadata": {
    "slideshow": {
     "slide_type": "fragment"
    },
    "tags": []
   },
   "outputs": [
    {
     "data": {
      "text/plain": [
       "True"
      ]
     },
     "execution_count": 72,
     "metadata": {},
     "output_type": "execute_result"
    }
   ],
   "source": [
    "(\"975\"+\"321\").isnumeric() # or you may use as well str.isnumeric(\"975\"+\"321\")"
   ]
  },
  {
   "cell_type": "code",
   "execution_count": 73,
   "metadata": {
    "ExecuteTime": {
     "end_time": "2018-04-16T14:59:26.898131Z",
     "start_time": "2018-04-16T14:59:26.893171Z"
    },
    "slideshow": {
     "slide_type": "fragment"
    },
    "tags": []
   },
   "outputs": [
    {
     "data": {
      "text/plain": [
       "975321"
      ]
     },
     "execution_count": 73,
     "metadata": {},
     "output_type": "execute_result"
    }
   ],
   "source": [
    "int(\"975\"+\"321\")"
   ]
  },
  {
   "cell_type": "markdown",
   "metadata": {
    "slideshow": {
     "slide_type": "subslide"
    }
   },
   "source": [
    "There are a number of methods connected to the string data type. Usually the relate to formatting or finding sub-strings. Formatting will be a topic in our next lecture. Here we just refer to one simple find example."
   ]
  },
  {
   "cell_type": "code",
   "execution_count": 74,
   "metadata": {
    "slideshow": {
     "slide_type": "fragment"
    },
    "tags": []
   },
   "outputs": [
    {
     "data": {
      "text/plain": [
       "3"
      ]
     },
     "execution_count": 74,
     "metadata": {},
     "output_type": "execute_result"
    }
   ],
   "source": [
    "t.find('ld') ## returns the index at which the sub string 'ld' starts in t"
   ]
  },
  {
   "cell_type": "code",
   "execution_count": 76,
   "metadata": {
    "slideshow": {
     "slide_type": "fragment"
    },
    "tags": []
   },
   "outputs": [
    {
     "data": {
      "text/plain": [
       "'World!'"
      ]
     },
     "execution_count": 76,
     "metadata": {},
     "output_type": "execute_result"
    }
   ],
   "source": [
    "t.capitalize()"
   ]
  },
  {
   "cell_type": "markdown",
   "metadata": {},
   "source": [
    "<div class=\"alert alert-info\">\n",
    "\n",
    "### Common String Methods\n",
    "\n",
    "Here's a summary of commonly used string methods :\n",
    "\n",
    "1. **`.join(iterable)`**: Concatenates the elements of an iterable (such as a list) into a single string, with the string acting as the delimiter.\n",
    "2. **`.split(separator=None, maxsplit=-1)`**: Splits a string into a list of substrings based on a separator. If no separator is specified, whitespace is used.\n",
    "3. **`.replace(old, new[, count])`**: Returns a new string with all occurrences of the substring `old` replaced by `new`. If the optional argument `count` is given, only the first `count` occurrences are replaced.\n",
    "4. **`.strip([chars])`**: Removes leading and trailing characters (whitespace by default) from the string. The `chars` argument is a string specifying the set of characters to be removed.\n",
    "5. **`.lower()`**: Converts all uppercase characters in a string to lowercase.\n",
    "6. **`.upper()`**: Converts all lowercase characters in a string to uppercase.\n",
    "7. **`.title()`**: Returns a title-cased version of the string where the first character of each word is capitalized.\n",
    "8. **`.capitalize()`**: Converts the first character of the string to uppercase and the rest to lowercase.\n",
    "9. **`.startswith(prefix[, start[, end]])`**: Returns `True` if the string starts with the specified `prefix` (and optionally within a specified slice `start` to `end`).\n",
    "10. **`.endswith(suffix[, start[, end]])`**: Returns `True` if the string ends with the specified `suffix` (and optionally within a specified slice `start` to `end`).\n",
    "11. **`.count(sub[, start[, end]])`**: Returns the number of non-overlapping occurrences of the substring `sub` in the string (optionally within a specified slice `start` to `end`).\n",
    "12. **`.find(sub[, start[, end]])`**: Returns the lowest index in the string where the substring `sub` is found (optionally within a specified slice `start` to `end`). Returns `-1` if the substring is not found.\n",
    "13. **`.index(sub[, start[, end]])`**: Like `.find()`, but raises a `ValueError` when the substring `sub` is not found[6][7].\n",
    "14. **`.rfind(sub[, start[, end]])`**: Returns the highest index in the string where the substring `sub` is found (optionally within a specified slice `start` to `end`). Returns `-1` if the substring is not found.\n",
    "15. **`.rindex(sub[, start[, end]])`**: Like `.rfind()`, but raises a `ValueError` when the substring `sub` is not found[6].\n",
    "16. **`.isalpha()`**: Returns `True` if all characters in the string are alphabetic and there is at least one character, `False` otherwise.\n",
    "17. **`.isdigit()`**: Returns `True` if all characters in the string are digits and there is at least one character, `False` otherwise.\n",
    "18. **`.isnumeric()`**: Returns `True` if all characters in the string are numeric characters, and there is at least one character, `False` otherwise.\n",
    "19. **`.isspace()`**: Returns `True` if there are only whitespace characters in the string and there is at least one character, `False` otherwise.\n",
    "20. **`.islower()`**: Returns `True` if all cased characters in the string are lowercase and there is at least one cased character, `False` otherwise.\n",
    "21. **`.isupper()`**: Returns `True` if all cased characters in the string are uppercase and there is at least one cased character, `False` otherwise.\n",
    "22. **`.istitle()`**: Returns `True` if the string is title-cased (i.e., uppercase characters may only follow uncased characters and lowercase characters only cased ones).\n",
    "\n",
    "</div>"
   ]
  },
  {
   "cell_type": "markdown",
   "metadata": {
    "slideshow": {
     "slide_type": "slide"
    }
   },
   "source": [
    "## Lists\n",
    "\n",
    "**Lists** have a variety of uses. They are useful, for example, in various bookkeeping tasks that arise in computer programming. Like arrays, they are sometimes used to store data. However, lists do not have the specialized properties and tools that make arrays so powerful for scientific computing. So in general, we prefer arrays to lists for working with scientific data. For other tasks, lists work just fine and can even be preferable to arrays.\n"
   ]
  },
  {
   "cell_type": "code",
   "execution_count": 78,
   "metadata": {
    "tags": []
   },
   "outputs": [],
   "source": [
    "a=[]"
   ]
  },
  {
   "cell_type": "code",
   "execution_count": 80,
   "metadata": {
    "ExecuteTime": {
     "end_time": "2018-04-16T15:00:48.538250Z",
     "start_time": "2018-04-16T15:00:48.535066Z"
    },
    "slideshow": {
     "slide_type": "fragment"
    },
    "tags": []
   },
   "outputs": [],
   "source": [
    "a = [0, 1, 1, 2, 3, 5, 8, 13]"
   ]
  },
  {
   "cell_type": "code",
   "execution_count": 81,
   "metadata": {
    "ExecuteTime": {
     "end_time": "2018-04-16T15:00:49.850960Z",
     "start_time": "2018-04-16T15:00:49.847769Z"
    },
    "slideshow": {
     "slide_type": "fragment"
    },
    "tags": []
   },
   "outputs": [],
   "source": [
    "b = [5., \"girl\", 2+0j, \"horse\", 21]"
   ]
  },
  {
   "cell_type": "markdown",
   "metadata": {
    "slideshow": {
     "slide_type": "subslide"
    }
   },
   "source": [
    "Individual elements in a list can be accessed by the variable name and the number (index) of the list element put in square brackets. Note that the index for the elements start at *0* for the first element (left). "
   ]
  },
  {
   "cell_type": "markdown",
   "metadata": {
    "slideshow": {
     "slide_type": "subslide"
    }
   },
   "source": [
    "<div class=\"alert alert-warning\">\n",
    "\n",
    "**Note** Indices in Python\n",
    "\n",
    "\n",
    "The first element of a list or array is accessed by the index 0. If the array has N elements, the last entries index is N-1.\n",
    "\n",
    "</div>"
   ]
  },
  {
   "cell_type": "code",
   "execution_count": 85,
   "metadata": {
    "slideshow": {
     "slide_type": "fragment"
    },
    "tags": []
   },
   "outputs": [
    {
     "data": {
      "text/plain": [
       "(5.0, 'girl')"
      ]
     },
     "execution_count": 85,
     "metadata": {},
     "output_type": "execute_result"
    }
   ],
   "source": [
    "b[0],b[1]"
   ]
  },
  {
   "cell_type": "markdown",
   "metadata": {
    "slideshow": {
     "slide_type": "subslide"
    }
   },
   "source": [
    "Elements may be also accessed from the back by nagative indices. *b[-1]* denotes the last element in the list and *b[-2]*, the element before the last."
   ]
  },
  {
   "cell_type": "code",
   "execution_count": 86,
   "metadata": {
    "ExecuteTime": {
     "end_time": "2018-04-16T15:12:01.177759Z",
     "start_time": "2018-04-16T15:12:01.171973Z"
    },
    "slideshow": {
     "slide_type": "fragment"
    },
    "tags": []
   },
   "outputs": [
    {
     "data": {
      "text/plain": [
       "21"
      ]
     },
     "execution_count": 86,
     "metadata": {},
     "output_type": "execute_result"
    }
   ],
   "source": [
    "b[-1]"
   ]
  },
  {
   "cell_type": "code",
   "execution_count": 87,
   "metadata": {
    "ExecuteTime": {
     "end_time": "2018-04-16T15:12:03.352948Z",
     "start_time": "2018-04-16T15:12:03.347674Z"
    },
    "slideshow": {
     "slide_type": "fragment"
    },
    "tags": []
   },
   "outputs": [
    {
     "data": {
      "text/plain": [
       "'horse'"
      ]
     },
     "execution_count": 87,
     "metadata": {},
     "output_type": "execute_result"
    }
   ],
   "source": [
    "b[-2]"
   ]
  },
  {
   "cell_type": "markdown",
   "metadata": {
    "slideshow": {
     "slide_type": "subslide"
    }
   },
   "source": [
    "The length of a list can be obtained by the `len` command if you need the number of elements in the list for your calculations."
   ]
  },
  {
   "cell_type": "code",
   "execution_count": 88,
   "metadata": {
    "ExecuteTime": {
     "end_time": "2018-04-16T15:07:44.966883Z",
     "start_time": "2018-04-16T15:07:44.961951Z"
    },
    "slideshow": {
     "slide_type": "fragment"
    },
    "tags": []
   },
   "outputs": [
    {
     "data": {
      "text/plain": [
       "5"
      ]
     },
     "execution_count": 88,
     "metadata": {},
     "output_type": "execute_result"
    }
   ],
   "source": [
    "len(b)"
   ]
  },
  {
   "cell_type": "markdown",
   "metadata": {
    "slideshow": {
     "slide_type": "subslide"
    }
   },
   "source": [
    "There are powerful ways to iterate through a list and also through arrays in form of *iterator*. This is called *list comprehension*. We will talk about them later in more detail. Here is an example, which shows the powerful options you have in Python."
   ]
  },
  {
   "cell_type": "code",
   "execution_count": 89,
   "metadata": {
    "ExecuteTime": {
     "end_time": "2018-04-16T15:10:25.820782Z",
     "start_time": "2018-04-16T15:10:25.815249Z"
    },
    "slideshow": {
     "slide_type": "fragment"
    },
    "tags": []
   },
   "outputs": [
    {
     "data": {
      "text/plain": [
       "[7.0, (4+0j), 23]"
      ]
     },
     "execution_count": 89,
     "metadata": {},
     "output_type": "execute_result"
    }
   ],
   "source": [
    "[x+2 for x in b if type(x)!=str]"
   ]
  },
  {
   "cell_type": "markdown",
   "metadata": {
    "slideshow": {
     "slide_type": "subslide"
    }
   },
   "source": [
    "Individual elements in a list can be replaced by assigning a new value to them"
   ]
  },
  {
   "cell_type": "code",
   "execution_count": 90,
   "metadata": {
    "ExecuteTime": {
     "end_time": "2018-04-16T15:12:05.751146Z",
     "start_time": "2018-04-16T15:12:05.748188Z"
    },
    "slideshow": {
     "slide_type": "fragment"
    },
    "tags": []
   },
   "outputs": [],
   "source": [
    "b[-2]='cat'"
   ]
  },
  {
   "cell_type": "code",
   "execution_count": 91,
   "metadata": {
    "ExecuteTime": {
     "end_time": "2018-04-16T15:12:14.659098Z",
     "start_time": "2018-04-16T15:12:14.653898Z"
    },
    "slideshow": {
     "slide_type": "fragment"
    },
    "tags": []
   },
   "outputs": [
    {
     "data": {
      "text/plain": [
       "[5.0, 'girl', (2+0j), 'cat', 21]"
      ]
     },
     "execution_count": 91,
     "metadata": {},
     "output_type": "execute_result"
    }
   ],
   "source": [
    "b"
   ]
  },
  {
   "cell_type": "markdown",
   "metadata": {
    "slideshow": {
     "slide_type": "subslide"
    }
   },
   "source": [
    "Lists can be concatanated by the *+* operator"
   ]
  },
  {
   "cell_type": "code",
   "execution_count": 93,
   "metadata": {
    "ExecuteTime": {
     "end_time": "2018-04-16T15:12:19.665264Z",
     "start_time": "2018-04-16T15:12:19.659673Z"
    },
    "slideshow": {
     "slide_type": "fragment"
    },
    "tags": []
   },
   "outputs": [
    {
     "data": {
      "text/plain": [
       "[0, 1, 1, 2, 3, 5, 8, 13, 5.0, 'girl', (2+0j), 'cat', 21]"
      ]
     },
     "execution_count": 93,
     "metadata": {},
     "output_type": "execute_result"
    }
   ],
   "source": [
    "c=a+b\n",
    "c"
   ]
  },
  {
   "cell_type": "markdown",
   "metadata": {
    "slideshow": {
     "slide_type": "subslide"
    }
   },
   "source": [
    "A very useful feature for lists in python is the **slicing** of lists. Slicing means, that we access only a range of elements in the list, i.e. element 3 to 7. This is done by inserting the starting and the ending element number separated by a colon (:) in the square brackets. The index numbers can be positive or negative again."
   ]
  },
  {
   "cell_type": "code",
   "execution_count": 95,
   "metadata": {
    "ExecuteTime": {
     "end_time": "2018-04-16T15:13:23.299713Z",
     "start_time": "2018-04-16T15:13:23.294538Z"
    },
    "slideshow": {
     "slide_type": "fragment"
    },
    "tags": []
   },
   "outputs": [
    {
     "data": {
      "text/plain": [
       "[2, 3, 5]"
      ]
     },
     "execution_count": 95,
     "metadata": {},
     "output_type": "execute_result"
    }
   ],
   "source": [
    "c[3:6]"
   ]
  },
  {
   "cell_type": "markdown",
   "metadata": {
    "slideshow": {
     "slide_type": "subslide"
    }
   },
   "source": [
    "Inserting a second colon behind the ending element index together with a thrid number allows even to select only ever second or third element from a list."
   ]
  },
  {
   "cell_type": "code",
   "execution_count": 96,
   "metadata": {
    "ExecuteTime": {
     "end_time": "2018-04-16T15:13:25.682027Z",
     "start_time": "2018-04-16T15:13:25.676726Z"
    },
    "slideshow": {
     "slide_type": "fragment"
    },
    "tags": []
   },
   "outputs": [
    {
     "data": {
      "text/plain": [
       "[2, 5, 13]"
      ]
     },
     "execution_count": 96,
     "metadata": {},
     "output_type": "execute_result"
    }
   ],
   "source": [
    "c[3:9:2]"
   ]
  },
  {
   "cell_type": "markdown",
   "metadata": {
    "slideshow": {
     "slide_type": "subslide"
    }
   },
   "source": [
    "It is sometimes also useful to reverse a list. This can be easily done with the reverse command."
   ]
  },
  {
   "cell_type": "code",
   "execution_count": 97,
   "metadata": {
    "slideshow": {
     "slide_type": "fragment"
    },
    "tags": []
   },
   "outputs": [
    {
     "data": {
      "text/plain": [
       "[21, 'cat', (2+0j), 'girl', 5.0, 13, 8, 5, 3, 2, 1, 1, 0]"
      ]
     },
     "execution_count": 97,
     "metadata": {},
     "output_type": "execute_result"
    }
   ],
   "source": [
    "c.reverse()\n",
    "c"
   ]
  },
  {
   "cell_type": "markdown",
   "metadata": {
    "slideshow": {
     "slide_type": "subslide"
    }
   },
   "source": [
    "Lists may be created in different ways. An empty list can be created by assigning emtpy square brackets to a variable name. You can append elements to the list with the help of the append command which has to be added to the variable name as shown below. This way of adding a particular function, which is part of a certain variable class is part of object oriented programming."
   ]
  },
  {
   "cell_type": "code",
   "execution_count": 109,
   "metadata": {
    "ExecuteTime": {
     "end_time": "2018-04-16T15:13:28.255450Z",
     "start_time": "2018-04-16T15:13:28.252567Z"
    },
    "slideshow": {
     "slide_type": "fragment"
    },
    "tags": []
   },
   "outputs": [],
   "source": [
    "a=[0]"
   ]
  },
  {
   "cell_type": "code",
   "execution_count": 110,
   "metadata": {
    "tags": []
   },
   "outputs": [],
   "source": [
    "a.append(7)"
   ]
  },
  {
   "cell_type": "code",
   "execution_count": 98,
   "metadata": {
    "ExecuteTime": {
     "end_time": "2017-04-20T20:53:21.102141+02:00",
     "start_time": "2017-04-20T20:53:21.098571"
    },
    "slideshow": {
     "slide_type": "fragment"
    },
    "tags": []
   },
   "outputs": [],
   "source": [
    "a=[10]*10"
   ]
  },
  {
   "cell_type": "code",
   "execution_count": 99,
   "metadata": {
    "tags": []
   },
   "outputs": [
    {
     "data": {
      "text/plain": [
       "[10, 10, 10, 10, 10, 10, 10, 10, 10, 10]"
      ]
     },
     "execution_count": 99,
     "metadata": {},
     "output_type": "execute_result"
    }
   ],
   "source": [
    "a"
   ]
  },
  {
   "cell_type": "markdown",
   "metadata": {
    "slideshow": {
     "slide_type": "subslide"
    }
   },
   "source": [
    "A list of numbers can be easily created by the `range()` command."
   ]
  },
  {
   "cell_type": "code",
   "execution_count": 45,
   "metadata": {
    "ExecuteTime": {
     "end_time": "2018-04-16T15:13:58.291820Z",
     "start_time": "2018-04-16T15:13:58.286904Z"
    },
    "slideshow": {
     "slide_type": "fragment"
    }
   },
   "outputs": [
    {
     "data": {
      "text/plain": [
       "[1, 2, 3, 4, 5, 6, 7, 8, 9]"
      ]
     },
     "execution_count": 45,
     "metadata": {},
     "output_type": "execute_result"
    }
   ],
   "source": [
    "list(range(1,10))"
   ]
  },
  {
   "cell_type": "code",
   "execution_count": 100,
   "metadata": {
    "ExecuteTime": {
     "end_time": "2018-04-16T15:13:59.337418Z",
     "start_time": "2018-04-16T15:13:59.332474Z"
    },
    "slideshow": {
     "slide_type": "fragment"
    },
    "tags": []
   },
   "outputs": [
    {
     "data": {
      "text/plain": [
       "[3, 4, 5, 6, 7, 8, 9]"
      ]
     },
     "execution_count": 100,
     "metadata": {},
     "output_type": "execute_result"
    }
   ],
   "source": [
    "list(range(3,10))"
   ]
  },
  {
   "cell_type": "code",
   "execution_count": 103,
   "metadata": {
    "ExecuteTime": {
     "end_time": "2018-04-16T15:14:00.450010Z",
     "start_time": "2018-04-16T15:14:00.444737Z"
    },
    "slideshow": {
     "slide_type": "fragment"
    },
    "tags": []
   },
   "outputs": [
    {
     "data": {
      "text/plain": [
       "[3, 5, 7, 9]"
      ]
     },
     "execution_count": 103,
     "metadata": {},
     "output_type": "execute_result"
    }
   ],
   "source": [
    "list(range(3,10,2))"
   ]
  },
  {
   "cell_type": "markdown",
   "metadata": {
    "ExecuteTime": {
     "end_time": "2017-04-20T21:00:24.038302+02:00",
     "start_time": "2017-04-20T21:00:24.032999"
    },
    "slideshow": {
     "slide_type": "subslide"
    }
   },
   "source": [
    "Lists (and also tuples below) can be multidimensional as well, i.e. for an image. The individual elements may then be addressed by supplying two indices in two square brackets."
   ]
  },
  {
   "cell_type": "code",
   "execution_count": 104,
   "metadata": {
    "ExecuteTime": {
     "end_time": "2018-04-16T15:14:06.425036Z",
     "start_time": "2018-04-16T15:14:06.421709Z"
    },
    "slideshow": {
     "slide_type": "fragment"
    },
    "tags": []
   },
   "outputs": [],
   "source": [
    "a = [[3, 9], [8, 5], [11, 1]]"
   ]
  },
  {
   "cell_type": "code",
   "execution_count": 107,
   "metadata": {
    "ExecuteTime": {
     "end_time": "2018-04-16T15:14:07.330192Z",
     "start_time": "2018-04-16T15:14:07.325086Z"
    },
    "slideshow": {
     "slide_type": "fragment"
    },
    "tags": []
   },
   "outputs": [
    {
     "data": {
      "text/plain": [
       "[8, 5]"
      ]
     },
     "execution_count": 107,
     "metadata": {},
     "output_type": "execute_result"
    }
   ],
   "source": [
    "a[1]"
   ]
  },
  {
   "cell_type": "code",
   "execution_count": 106,
   "metadata": {
    "ExecuteTime": {
     "end_time": "2018-04-16T15:14:08.460686Z",
     "start_time": "2018-04-16T15:14:08.455419Z"
    },
    "slideshow": {
     "slide_type": "fragment"
    },
    "tags": []
   },
   "outputs": [
    {
     "data": {
      "text/plain": [
       "11"
      ]
     },
     "execution_count": 106,
     "metadata": {},
     "output_type": "execute_result"
    }
   ],
   "source": [
    "a[2][0]"
   ]
  },
  {
   "cell_type": "markdown",
   "metadata": {},
   "source": [
    "<div class=\"alert alert-info\">\n",
    "\n",
    "\n",
    "### Common List Methods\n",
    "\n",
    "Here's a summary of commonly used list methods including a short description:\n",
    "\n",
    "1. **`.append(x)`**: Adds an item `x` to the end of the list.\n",
    "2. **`.extend(iterable)`**: Extends the list by appending all the items from the given `iterable`.\n",
    "3. **`.insert(i, x)`**: Inserts an item `x` at a given position `i`.\n",
    "4. **`.remove(x)`**: Removes the first item from the list whose value is equal to `x`.\n",
    "5. **`.pop([i])`**: Removes the item at the given position in the list and returns it. If no index is specified, `pop()` removes and returns the last item in the list.\n",
    "6. **`.clear()`**: Removes all items from the list.\n",
    "7. **`.index(x[, start[, end]])`**: Returns the zero-based index in the list of the first item whose value is equal to `x`. Optional arguments `start` and `end` are used to limit the search to a particular subsequence of the list.\n",
    "8. **`.count(x)`**: Returns the number of times `x` appears in the list.\n",
    "9. **`.sort(*, key=None, reverse=False)`**: Sorts the items of the list in place. The arguments can be used for sort customization.\n",
    "10. **`.reverse()`**: Reverses the elements of the list in place.\n",
    "11. **`.copy()`**: Returns a shallow copy of the list.\n",
    "</div>"
   ]
  },
  {
   "cell_type": "markdown",
   "metadata": {
    "slideshow": {
     "slide_type": "slide"
    }
   },
   "source": [
    "## Tuples\n",
    "\n",
    "**Tuples** are also list, but immutable. That means, if a tuple has been once defined, it cannot be changed. Try to change an element to see the result."
   ]
  },
  {
   "cell_type": "code",
   "execution_count": 113,
   "metadata": {
    "slideshow": {
     "slide_type": "fragment"
    },
    "tags": []
   },
   "outputs": [
    {
     "name": "stdout",
     "output_type": "stream",
     "text": [
      "(10, 20) <class 'tuple'>\n"
     ]
    }
   ],
   "source": [
    "point = (10, 20)\n",
    "\n",
    "print(point, type(point))"
   ]
  },
  {
   "cell_type": "markdown",
   "metadata": {
    "slideshow": {
     "slide_type": "subslide"
    }
   },
   "source": [
    "Tuples may be unpacked, e.g. its values may be assigned to normal variables in the following way"
   ]
  },
  {
   "cell_type": "code",
   "execution_count": 137,
   "metadata": {
    "tags": []
   },
   "outputs": [
    {
     "data": {
      "text/plain": [
       "20"
      ]
     },
     "execution_count": 137,
     "metadata": {},
     "output_type": "execute_result"
    }
   ],
   "source": [
    "point[1]"
   ]
  },
  {
   "cell_type": "code",
   "execution_count": 116,
   "metadata": {
    "slideshow": {
     "slide_type": "fragment"
    },
    "tags": []
   },
   "outputs": [
    {
     "name": "stdout",
     "output_type": "stream",
     "text": [
      "x = 10\n",
      "y = 20\n"
     ]
    }
   ],
   "source": [
    "x, y = point\n",
    "\n",
    "print(\"x =\", x)\n",
    "print(\"y =\", y)"
   ]
  },
  {
   "cell_type": "markdown",
   "metadata": {},
   "source": [
    "<div class=\"alert alert-info\">\n",
    "\n",
    "### Common Methods for Tuples:\n",
    "\n",
    "Common methods for tuples in Python are:\n",
    "\n",
    "1. **`count()`**: This method returns the number of times a specified value occurs in a tuple.\n",
    "\n",
    "2. **`index()`**: This method searches the tuple for a specified value and returns the position of where it was found. If the value is not found, a `ValueError` is raised.\n",
    "\n",
    "</div>"
   ]
  },
  {
   "cell_type": "markdown",
   "metadata": {
    "ExecuteTime": {
     "end_time": "2017-04-17T20:46:46.711516+02:00",
     "start_time": "2017-04-17T20:46:46.705826"
    },
    "slideshow": {
     "slide_type": "slide"
    }
   },
   "source": [
    "## Dictionaries\n",
    "\n",
    "\n",
    "**Dictionaries** are like lists, but the elements of dictionaries are accessed in a different way than for lists. The elements of lists and arrays are numbered consecutively, and to access an element of a list or an array, you simply refer to the number corresponding to its position in the sequence. The elements of dictionaries are accessed by “keys”, which can be either strings or (arbitrary) integers (in no particular order). Dictionaries are an important part of core Python. However, we do not make much use of them in this introduction to scientific Python, so our discussion of them is limited."
   ]
  },
  {
   "cell_type": "code",
   "execution_count": 123,
   "metadata": {
    "ExecuteTime": {
     "end_time": "2019-04-09T12:11:22.208828Z",
     "start_time": "2019-04-09T12:11:22.205914Z"
    },
    "slideshow": {
     "slide_type": "fragment"
    },
    "tags": []
   },
   "outputs": [],
   "source": [
    "room = {\"a\":\"b\", \"Frank\":322, \"Dekan\":550}"
   ]
  },
  {
   "cell_type": "code",
   "execution_count": 124,
   "metadata": {
    "ExecuteTime": {
     "end_time": "2019-04-09T12:11:50.431570Z",
     "start_time": "2019-04-09T12:11:50.428226Z"
    },
    "slideshow": {
     "slide_type": "fragment"
    },
    "tags": []
   },
   "outputs": [
    {
     "data": {
      "text/plain": [
       "'b'"
      ]
     },
     "execution_count": 124,
     "metadata": {},
     "output_type": "execute_result"
    }
   ],
   "source": [
    "room['a']"
   ]
  },
  {
   "cell_type": "code",
   "execution_count": 120,
   "metadata": {
    "ExecuteTime": {
     "end_time": "2019-04-09T12:11:26.396475Z",
     "start_time": "2019-04-09T12:11:26.392435Z"
    },
    "slideshow": {
     "slide_type": "fragment"
    },
    "tags": []
   },
   "outputs": [
    {
     "data": {
      "text/plain": [
       "dict_keys(['Ralf', 'Frank', 'Dekan'])"
      ]
     },
     "execution_count": 120,
     "metadata": {},
     "output_type": "execute_result"
    }
   ],
   "source": [
    "room.keys()"
   ]
  },
  {
   "cell_type": "code",
   "execution_count": 121,
   "metadata": {
    "ExecuteTime": {
     "end_time": "2019-04-09T12:11:37.030931Z",
     "start_time": "2019-04-09T12:11:37.027249Z"
    },
    "slideshow": {
     "slide_type": "fragment"
    },
    "tags": []
   },
   "outputs": [
    {
     "data": {
      "text/plain": [
       "dict_values([422, 322, 550])"
      ]
     },
     "execution_count": 121,
     "metadata": {},
     "output_type": "execute_result"
    }
   ],
   "source": [
    "room.values()"
   ]
  },
  {
   "cell_type": "markdown",
   "metadata": {},
   "source": [
    "<div class=\"alert alert-info\">\n",
    "\n",
    "### Common Methods for Dictionaries\n",
    "    \n",
    "Here is a summary of common methods for dictionaries:\n",
    "\n",
    "1. **`clear()`**: Removes all items from the dictionary, leaving it empty.\n",
    "2. **`copy()`**: Returns a shallow copy of the dictionary.\n",
    "3. **`fromkeys()`**: Creates a new dictionary with keys from an iterable and values set to a specified value[8].\n",
    "4. **`get(key[, default])`**: Returns the value for a specified key. If the key is not found, it returns the default value (None if not specified).\n",
    "5. **`items()`**: Returns a view object that displays a list of dictionary's key-value tuple pairs.\n",
    "6. **`keys()`**: Returns a view object that displays a list of all the keys in the dictionary.\n",
    "7. **`pop(key[, default])`**: Removes the specified key and returns the corresponding value. If the key is not found, the default value is returned. If the default is not provided and the key is not found, a KeyError is raised.\n",
    "8. **`popitem()`**: Removes and returns a (key, value) pair from the dictionary. Pairs are returned in a LIFO (Last In, First Out) order.\n",
    "9. **`setdefault(key[, default])`**: Returns the value of the specified key. If the key does not exist: insert the key, with the specified value, default is None if not specified.\n",
    "10. **`update([other])`**: Updates the dictionary with the key-value pairs from another dictionary object or from an iterable of key-value pairs.\n",
    "11. **`values()`**: Returns a view object that displays a list of all the values in the dictionary.\n",
    "</div>"
   ]
  },
  {
   "cell_type": "markdown",
   "metadata": {},
   "source": [
    "## Sets\n",
    "\n",
    "\n",
    "**Sets** are like lists but have immutable unique entries, which means the elements can not be changed once defined. \n",
    "An emtpy set is created by the `set()` method. \n",
    "\n"
   ]
  },
  {
   "cell_type": "code",
   "execution_count": 125,
   "metadata": {
    "tags": []
   },
   "outputs": [
    {
     "name": "stdout",
     "output_type": "stream",
     "text": [
      "Phone ID: {112, 114, 115, 116, 118}\n"
     ]
    }
   ],
   "source": [
    "phone_id = {112, 114, 116, 118, 115}\n",
    "print('Phone ID:', phone_id)"
   ]
  },
  {
   "cell_type": "code",
   "execution_count": 126,
   "metadata": {
    "tags": []
   },
   "outputs": [
    {
     "data": {
      "text/plain": [
       "set"
      ]
     },
     "execution_count": 126,
     "metadata": {},
     "output_type": "execute_result"
    }
   ],
   "source": [
    "type(phone_id)"
   ]
  },
  {
   "cell_type": "code",
   "execution_count": 139,
   "metadata": {
    "tags": []
   },
   "outputs": [
    {
     "name": "stdout",
     "output_type": "stream",
     "text": [
      "Fruits: {'Strawberry', 'Orange', 'Mango', 'Banana', 'Kiwi'}\n"
     ]
    }
   ],
   "source": [
    "fruits = {'Banana', 'Mango', 'Kiwi', 'Strawberry', 'Orange'}\n",
    "print('Fruits:', fruits)"
   ]
  },
  {
   "cell_type": "code",
   "execution_count": 128,
   "metadata": {
    "tags": []
   },
   "outputs": [
    {
     "name": "stdout",
     "output_type": "stream",
     "text": [
      "Set of mixed data types: {112, 'Python', -2, 'Good'}\n"
     ]
    }
   ],
   "source": [
    "mixed_set = {'Python', 112, -2, 'Good'}\n",
    "print('Set of mixed data types:', mixed_set)"
   ]
  },
  {
   "cell_type": "markdown",
   "metadata": {},
   "source": [
    "You may add elements to a set with the `add` method:\n"
   ]
  },
  {
   "cell_type": "markdown",
   "metadata": {},
   "source": [
    "You may also remove objects with the `discard` method:"
   ]
  },
  {
   "cell_type": "code",
   "execution_count": 24,
   "metadata": {
    "tags": []
   },
   "outputs": [],
   "source": [
    "fruits.discard(\"Orange\")"
   ]
  },
  {
   "cell_type": "markdown",
   "metadata": {
    "tags": []
   },
   "source": [
    "You may also apply a variety of operation to sets checking their *intersection*, *union* or *difference*."
   ]
  },
  {
   "cell_type": "code",
   "execution_count": 140,
   "metadata": {
    "tags": []
   },
   "outputs": [],
   "source": [
    "A = {1, 3, 5}\n",
    "B = {1, 2, 3}"
   ]
  },
  {
   "cell_type": "code",
   "execution_count": 141,
   "metadata": {
    "tags": []
   },
   "outputs": [
    {
     "data": {
      "text/plain": [
       "{1, 3}"
      ]
     },
     "execution_count": 141,
     "metadata": {},
     "output_type": "execute_result"
    }
   ],
   "source": [
    "#intersection\n",
    "A & B"
   ]
  },
  {
   "cell_type": "code",
   "execution_count": 145,
   "metadata": {
    "tags": []
   },
   "outputs": [
    {
     "data": {
      "text/plain": [
       "{2, 5}"
      ]
     },
     "execution_count": 145,
     "metadata": {},
     "output_type": "execute_result"
    }
   ],
   "source": [
    "#symmetric difference\n",
    "B^A"
   ]
  },
  {
   "cell_type": "code",
   "execution_count": 146,
   "metadata": {
    "tags": []
   },
   "outputs": [
    {
     "data": {
      "text/plain": [
       "{1, 2, 3, 5}"
      ]
     },
     "execution_count": 146,
     "metadata": {},
     "output_type": "execute_result"
    }
   ],
   "source": [
    "# union\n",
    "A | B"
   ]
  },
  {
   "cell_type": "markdown",
   "metadata": {
    "tags": []
   },
   "source": [
    "<div class=\"alert alert-info\">\n",
    "\n",
    "### Common Methods for Sets\n",
    "\n",
    "Here is a summary for common methods for sets:\n",
    "\n",
    "\n",
    "1. **`add(element)`**: Adds an element to the set.\n",
    "2. **`clear()`**: Removes all elements from the set.\n",
    "3. **`copy()`**: Returns a shallow copy of the set.\n",
    "4. **`difference(other_set)`**: Returns a new set containing elements in the set that are not in the `other_set`.\n",
    "5. **`difference_update(other_set)`**: Removes all elements of another set from this set.\n",
    "6. **`discard(element)`**: Removes an element from the set if it is a member (does nothing if the element is not in the set).\n",
    "7. **`intersection(other_set)`**: Returns a new set with elements common to the set and `other_set`.\n",
    "8. **`intersection_update(other_set)`**: Updates the set with the intersection of itself and another set.\n",
    "9. **`isdisjoint(other_set)`**: Returns `True` if two sets have a null intersection.\n",
    "10. **`issubset(other_set)`**: Returns `True` if another set contains this set.\n",
    "11. **`issuperset(other_set)`**: Returns `True` if this set contains another set.\n",
    "12. **`pop()`**: Removes and returns an arbitrary set element. Raises `KeyError` if the set is empty.\n",
    "13. **`remove(element)`**: Removes an element from the set. If the element is not a member, raises a `KeyError`.\n",
    "14. **`union(other_set)`**: Returns a new set with all elements from the set and `other_set`.\n",
    "15. **`update(other_set)`**: Adds elements from `other_set` to the set.\n",
    "</div>"
   ]
  }
 ],
 "metadata": {
  "anaconda-cloud": {},
  "celltoolbar": "Slideshow",
  "hide_input": false,
  "kernelspec": {
   "display_name": "Python 3 (ipykernel)",
   "language": "python",
   "name": "python3"
  },
  "language_info": {
   "codemirror_mode": {
    "name": "ipython",
    "version": 3
   },
   "file_extension": ".py",
   "mimetype": "text/x-python",
   "name": "python",
   "nbconvert_exporter": "python",
   "pygments_lexer": "ipython3",
   "version": "3.8.16"
  },
  "latex_envs": {
   "LaTeX_envs_menu_present": true,
   "autoclose": false,
   "autocomplete": true,
   "bibliofile": "biblio.bib",
   "cite_by": "apalike",
   "current_citInitial": 1,
   "eqLabelWithNumbers": true,
   "eqNumInitial": 1,
   "hotkeys": {
    "equation": "Ctrl-E",
    "itemize": "Ctrl-I"
   },
   "labels_anchors": false,
   "latex_user_defs": false,
   "report_style_numbering": true,
   "user_envs_cfg": false
  },
  "toc": {
   "base_numbering": 1,
   "nav_menu": {
    "height": "12px",
    "width": "252px"
   },
   "number_sections": true,
   "sideBar": true,
   "skip_h1_title": false,
   "title_cell": "Table of Contents",
   "title_sidebar": "Contents",
   "toc_cell": true,
   "toc_position": {
    "height": "1335px",
    "left": "0px",
    "right": "2386px",
    "top": "110px",
    "width": "302px"
   },
   "toc_section_display": "block",
   "toc_window_display": false
  },
  "varInspector": {
   "cols": {
    "lenName": 16,
    "lenType": 16,
    "lenVar": 40
   },
   "kernels_config": {
    "python": {
     "delete_cmd_postfix": "",
     "delete_cmd_prefix": "del ",
     "library": "var_list.py",
     "varRefreshCmd": "print(var_dic_list())"
    },
    "r": {
     "delete_cmd_postfix": ") ",
     "delete_cmd_prefix": "rm(",
     "library": "var_list.r",
     "varRefreshCmd": "cat(var_dic_list()) "
    }
   },
   "types_to_exclude": [
    "module",
    "function",
    "builtin_function_or_method",
    "instance",
    "_Feature"
   ],
   "window_display": false
  },
  "widgets": {
   "application/vnd.jupyter.widget-state+json": {
    "state": {},
    "version_major": 2,
    "version_minor": 0
   }
  }
 },
 "nbformat": 4,
 "nbformat_minor": 4
}
