{
 "cells": [
  {
   "cell_type": "markdown",
   "id": "0ba8c397-78cd-498e-8395-8831ae6dc99a",
   "metadata": {},
   "source": [
    "To derive the momentum diffusion equation, also known as the Navier-Stokes equation, including the effects of viscosity, we start from Newton's second law of motion applied to a fluid element and incorporate the viscous stress terms. Here are the key steps:\n",
    "\n",
    "1. Consider a fluid element of infinitesimal volume dV with sides dx, dy, and dz. Apply Newton's second law to this element:\n",
    "\n",
    "$$\\rho\\frac{D\\vec{u}}{Dt}dV = \\sum\\vec{F}$$\n",
    "\n",
    "Where $\\rho$ is the fluid density, $\\vec{u}$ is the fluid velocity vector, and $\\sum\\vec{F}$ is the sum of forces acting on the element.\n",
    "\n",
    "2. The forces acting on the fluid element can be divided into body forces (e.g. gravity) and surface forces arising from pressure and viscous stresses.\n",
    "\n",
    "Body force: $\\rho\\vec{g}dV$  \n",
    "\n",
    "Pressure forces: $-\\frac{\\partial p}{\\partial x}dydz, -\\frac{\\partial p}{\\partial y}dxdz, -\\frac{\\partial p}{\\partial z}dxdy$\n",
    "\n",
    "Viscous forces: Expressed using the viscous stress tensor $\\tau_{ij}$\n",
    "\n",
    "3. The viscous stress tensor $\\tau_{ij}$ for a Newtonian fluid is related to the rates of strain through the constitutive relationship:\n",
    "\n",
    "$$\\tau_{ij} = \\lambda(\\nabla\\cdot\\vec{u})\\delta_{ij} + 2\\mu e_{ij}$$\n",
    "\n",
    "Where $\\lambda$ and $\\mu$ are the bulk and shear viscosity coefficients, $\\delta_{ij}$ is the Kronecker delta, and $e_{ij} = \\frac{1}{2}\\left(\\frac{\\partial u_i}{\\partial x_j} + \\frac{\\partial u_j}{\\partial x_i}\\right)$ is the strain rate tensor.\n",
    "\n",
    "4. Substituting all the force terms into Newton's second law and using the constitutive relationship for $\\tau_{ij}$, we get the Navier-Stokes equation in vector form:\n",
    "\n",
    "$$\\rho\\frac{D\\vec{u}}{Dt} = -\\nabla p + \\mu\\nabla^2\\vec{u} + \\frac{1}{3}\\mu\\nabla(\\nabla\\cdot\\vec{u}) + \\rho\\vec{g}$$\n",
    "\n",
    "The term $\\mu\\nabla^2\\vec{u}$ represents the diffusion of momentum due to viscosity, where $\\mu$ is the dynamic viscosity coefficient.\n",
    "\n",
    "This equation describes how the momentum of a fluid element changes due to pressure gradients, viscous diffusion of momentum, and body forces like gravity. The viscous term $\\mu\\nabla^2\\vec{u}$ is the momentum diffusion term, analogous to the diffusion term in heat transfer or mass diffusion equations.\n",
    "\n"
   ]
  },
  {
   "cell_type": "code",
   "execution_count": null,
   "id": "6e399668-0547-4618-b6dd-4272eba439e6",
   "metadata": {},
   "outputs": [],
   "source": []
  }
 ],
 "metadata": {
  "kernelspec": {
   "display_name": "Python 3 (ipykernel)",
   "language": "python",
   "name": "python3"
  },
  "language_info": {
   "codemirror_mode": {
    "name": "ipython",
    "version": 3
   },
   "file_extension": ".py",
   "mimetype": "text/x-python",
   "name": "python",
   "nbconvert_exporter": "python",
   "pygments_lexer": "ipython3",
   "version": "3.8.16"
  },
  "widgets": {
   "application/vnd.jupyter.widget-state+json": {
    "state": {},
    "version_major": 2,
    "version_minor": 0
   }
  }
 },
 "nbformat": 4,
 "nbformat_minor": 5
}
