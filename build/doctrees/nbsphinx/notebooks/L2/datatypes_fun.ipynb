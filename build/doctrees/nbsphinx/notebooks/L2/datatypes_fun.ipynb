{
 "cells": [
  {
   "cell_type": "markdown",
   "id": "15a7b1a3-3503-4f5d-a355-5b772410e638",
   "metadata": {},
   "source": [
    "# Fun with DataTypes"
   ]
  },
  {
   "cell_type": "markdown",
   "id": "e0a46bc8-8d62-40b2-887f-489712f4e9ab",
   "metadata": {
    "jp-MarkdownHeadingCollapsed": true,
    "tags": []
   },
   "source": [
    "### 1. **String Manipulation: Physics Puns and Jokes**\n",
    "\n",
    "- **Exercise:** Write a Python program that stores physics jokes or puns in strings and then prints them out to the console. For example, \"Why can't you trust an atom? Because they make up everything!\" This introduces into string data types and basic input/output operations."
   ]
  },
  {
   "cell_type": "code",
   "execution_count": 7,
   "id": "0b349587-6218-4b58-b350-47477bae5cc2",
   "metadata": {
    "tags": []
   },
   "outputs": [
    {
     "name": "stdout",
     "output_type": "stream",
     "text": [
      "Why can't you take electricity to social events? Because it doesn't know how to conduct itself.\n"
     ]
    }
   ],
   "source": [
    "import numpy as np\n",
    "\n",
    "jokes = [\n",
    "    \"Why can't you trust an atom? Because they make up everything!\",\n",
    "    \"What is a physicist's favorite food? Fission chips.\",\n",
    "    \"Why are quantum physicists bad lovers? Because when they find the position, they can't find the momentum, and when they have the momentum, they can't find the position.\",\n",
    "    \"Why did the sun go to school? To get a little brighter!\",\n",
    "    \"Why can't you take electricity to social events? Because it doesn't know how to conduct itself.\"\n",
    "]\n",
    "\n",
    "\n",
    "print(jokes[np.random.randint(5)])"
   ]
  },
  {
   "cell_type": "markdown",
   "id": "8f5dbf73-e5ea-48a4-b63d-975ca6973e6f",
   "metadata": {
    "jp-MarkdownHeadingCollapsed": true,
    "tags": []
   },
   "source": [
    "### 2. **Integers and Floats: Calculating Physics Constants**\n",
    "\n",
    "- **Exercise:** Create a program that calculates and prints the value of various physics constants, such as the speed of light in a vacuum, Planck's constant, or the gravitational constant. This will help practice using integers and floats, as well as basic arithmetic operations in Python."
   ]
  },
  {
   "cell_type": "markdown",
   "id": "d94dd0d7-e3da-4d36-abe6-54c3b83e7032",
   "metadata": {},
   "source": [
    "<div class=\"alert alert-info\">\n",
    "\n",
    "**Speed of light**\n",
    "    \n",
    "\n",
    "- Definition: The speed at which light travels in vacuum, a fundamental physical constant denoted by c.\n",
    "- Value in Metric **299,792,458 metres per second**\n",
    "- Upper Speed Limit: c is the maximum speed at which all conventional matter, energy, or any signal carrying information can travel.\n",
    "- Historical Measurement: First demonstrated to not be instantaneous by Ole Rømer in 1676 using Jupiter's moon Io.\n",
    "- Relevance Beyond Light: Albert Einstein showed its significance outside of light in the theory of relativity, including in the equation $$E=mc^2$$.\n",
    "\n",
    "- Refractive Index: The speed of light in materials such as glass or air is less than c, affecting its speed based on the medium's refractive index.\n",
    "    \n",
    "</div>"
   ]
  },
  {
   "cell_type": "code",
   "execution_count": null,
   "id": "52e49235-a6be-4346-8f84-698c7ef20ee0",
   "metadata": {},
   "outputs": [],
   "source": [
    "speed_of_light = 299792458  # Speed of light in vacuum, in meters per second (m/s)\n",
    "plancks_constant = 6.62607015e-34  # Planck's constant, in Joule seconds (J.s)\n",
    "gravitational_constant = 6.67430e-11  # Gravitational constant, in Newton meter squared per kilogram squared (N m^2 / kg^2)\n",
    "boltzmann_constant = 1.380649e-23  # Boltzmann constant, in Joules per Kelvin (J/K)\n",
    "\n",
    "\n",
    "print(f\"Speed of Light in Vacuum: {speed_of_light} m/s\")\n",
    "print(f\"Planck's Constant: {plancks_constant} J.s\")\n",
    "print(f\"Gravitational Constant: {gravitational_constant} N m^2 / kg^2\")\n",
    "print(f\"Boltzmann Constant: {boltzmann_constant} J/K\")"
   ]
  },
  {
   "cell_type": "markdown",
   "id": "09800f9c-dcc6-43e5-8dae-2a5b17090481",
   "metadata": {
    "jp-MarkdownHeadingCollapsed": true,
    "tags": []
   },
   "source": [
    "### 3. **Lists: Tracking Particles in an Accelerator**\n",
    "\n",
    "- **Exercise:** Create a list of particles (e.g., protons, neutrons, electrons) being accelerated in a hypothetical experiment. They should write functions to add, remove, and modify particles in the list, simulating real-world data manipulation. This introduces lists and list operations."
   ]
  },
  {
   "cell_type": "code",
   "execution_count": 2,
   "id": "5d6d5f02-94b0-4fae-9022-580aa9ecf9fb",
   "metadata": {
    "tags": []
   },
   "outputs": [
    {
     "name": "stdout",
     "output_type": "stream",
     "text": [
      "Added 'muon' to the list.\n",
      "Current list of particles: ['proton', 'neutron', 'electron', 'positron', 'muon']\n",
      "Removed 'positron' from the list.\n",
      "Replaced 'muon' with 'tau'.\n",
      "Current list of particles: ['proton', 'neutron', 'electron', 'tau']\n"
     ]
    }
   ],
   "source": [
    "particles = ['proton', 'neutron', 'electron', 'positron']\n",
    "\n",
    "particles.append('muon')\n",
    "print(\"Added 'muon' to the list.\")\n",
    "print(\"Current list of particles:\", particles)\n",
    "\n",
    "\n",
    "particles.remove('positron')\n",
    "print(\"Removed 'positron' from the list.\")\n",
    "\n",
    "index = particles.index('muon')\n",
    "particles[index] = 'tau'\n",
    "print(\"Replaced 'muon' with 'tau'.\")\n",
    "\n",
    "print(\"Current list of particles:\", particles)"
   ]
  },
  {
   "cell_type": "markdown",
   "id": "ed08e9a7-8c80-470a-a49e-34ee33cac5a9",
   "metadata": {
    "jp-MarkdownHeadingCollapsed": true,
    "tags": []
   },
   "source": [
    "### 4. **Tuples: Storing Atomic Data**\n",
    "\n",
    "- **Exercise:** One can use tuples to store atomic data, such as atomic number, atomic mass, and electron configuration for different elements. Write a function to print this data in a formatted way. This exercise teaches the immutability of tuples and how they can be used to store related data."
   ]
  },
  {
   "cell_type": "code",
   "execution_count": 3,
   "id": "89e06a4c-7a5c-4358-b0be-6b55e6cc3fd8",
   "metadata": {
    "tags": []
   },
   "outputs": [],
   "source": [
    "hydrogen = (1, 1.008, \"1s1\")\n",
    "helium = (2, 4.002602, \"1s2\")\n",
    "carbon = (6, 12.011, \"[He] 2s2 2p2\")\n",
    "oxygen = (8, 15.999, \"[He] 2s2 2p4\")\n",
    "\n",
    "elements = [hydrogen, helium, carbon, oxygen]"
   ]
  },
  {
   "cell_type": "markdown",
   "id": "c59cff7e-b0d8-4997-912e-c11f20c0e302",
   "metadata": {
    "jp-MarkdownHeadingCollapsed": true,
    "tags": []
   },
   "source": [
    "### 5. **Dictionaries: Cataloging the Periodic Table**\n",
    "\n",
    "- **Exercise:** Create a dictionary where each key-value pair consists of an element (key) and its properties (value) such as atomic number, atomic mass, and state at room temperature. This exercise introduces dictionaries and how to access and modify their data."
   ]
  },
  {
   "cell_type": "code",
   "execution_count": 4,
   "id": "ca58e290-4c40-4419-9589-ead818d14404",
   "metadata": {
    "tags": []
   },
   "outputs": [
    {
     "name": "stdout",
     "output_type": "stream",
     "text": [
      "Properties of Carbon (C):\n",
      "Atomic Number: 6\n",
      "Atomic Mass: 12.011\n",
      "State at Room Temperature: solid\n",
      "\n",
      "Updated properties of Carbon (C):\n",
      "State at Room Temperature: graphite (solid)\n",
      "\n",
      "Added properties of Neon (Ne):\n",
      "Atomic Number: 10\n",
      "Atomic Mass: 20.1797\n",
      "State at Room Temperature: gas\n"
     ]
    }
   ],
   "source": [
    "elements = {\n",
    "    'H': {'atomic_number': 1, 'atomic_mass': 1.008, 'state_at_room_temp': 'gas'},\n",
    "    'He': {'atomic_number': 2, 'atomic_mass': 4.002602, 'state_at_room_temp': 'gas'},\n",
    "    'C': {'atomic_number': 6, 'atomic_mass': 12.011, 'state_at_room_temp': 'solid'},\n",
    "    'O': {'atomic_number': 8, 'atomic_mass': 15.999, 'state_at_room_temp': 'gas'},\n",
    "    'N': {'atomic_number': 7, 'atomic_mass': 14.007, 'state_at_room_temp': 'gas'}\n",
    "}\n",
    "\n",
    "element_symbol = 'C'\n",
    "carbon_properties = elements[element_symbol]\n",
    "print(f\"Properties of Carbon (C):\")\n",
    "print(f\"Atomic Number: {carbon_properties['atomic_number']}\")\n",
    "print(f\"Atomic Mass: {carbon_properties['atomic_mass']}\")\n",
    "print(f\"State at Room Temperature: {carbon_properties['state_at_room_temp']}\")\n",
    "\n",
    "elements['C']['state_at_room_temp'] = 'graphite (solid)'\n",
    "print(\"\\nUpdated properties of Carbon (C):\")\n",
    "print(f\"State at Room Temperature: {elements['C']['state_at_room_temp']}\")\n",
    "\n",
    "elements['Ne'] = {'atomic_number': 10, 'atomic_mass': 20.1797, 'state_at_room_temp': 'gas'}\n",
    "print(\"\\nAdded properties of Neon (Ne):\")\n",
    "print(f\"Atomic Number: {elements['Ne']['atomic_number']}\")\n",
    "print(f\"Atomic Mass: {elements['Ne']['atomic_mass']}\")\n",
    "print(f\"State at Room Temperature: {elements['Ne']['state_at_room_temp']}\")"
   ]
  },
  {
   "cell_type": "markdown",
   "id": "6599d594-6195-4867-92c5-38f9a3da2190",
   "metadata": {
    "jp-MarkdownHeadingCollapsed": true,
    "tags": []
   },
   "source": [
    "### 6. **Boolean Logic: Evaluating Collision Outcomes**\n",
    "\n",
    "- **Exercise:** Write a program that uses Boolean logic to determine the outcome of particle collisions based on their properties (e.g., mass, velocity). For example, whether the particles will bounce off each other, merge, or disintegrate. This is about Boolean data types and conditional statements."
   ]
  },
  {
   "cell_type": "code",
   "execution_count": null,
   "id": "58433a5c-02e8-4119-96a2-43e97619d4b2",
   "metadata": {},
   "outputs": [],
   "source": [
    "# Particle properties\n",
    "particle1_mass = 2\n",
    "particle1_velocity = 3\n",
    "particle1_hardness = 8\n",
    "\n",
    "particle2_mass = 3\n",
    "particle2_velocity = 1\n",
    "particle2_hardness = 7\n",
    "\n",
    "# Calculate relative velocity\n",
    "relative_velocity = abs(particle1_velocity - particle2_velocity)\n",
    "\n",
    "# Determine outcomes using boolean logic\n",
    "bounce = (relative_velocity < 5 and particle1_hardness + particle2_hardness > 15) or (relative_velocity >= 5 and particle1_hardness + particle2_hardness >= 10)\n",
    "merge = relative_velocity < 5 and particle1_hardness + particle2_hardness <= 15\n",
    "disintegrate = relative_velocity >= 5 and particle1_hardness + particle2_hardness < 10\n",
    "\n",
    "# Print the outcome\n",
    "print(\"Outcome of the collision:\")\n",
    "print(\"Bounce:\", bounce)\n",
    "print(\"Merge:\", merge)\n",
    "print(\"Disintegrate:\", disintegrate)"
   ]
  },
  {
   "cell_type": "markdown",
   "id": "beb34353-0216-419f-81d5-645f736da420",
   "metadata": {
    "jp-MarkdownHeadingCollapsed": true,
    "tags": []
   },
   "source": [
    "### 7. **Sets: Unique Quantum States**\n",
    "\n",
    "- **Exercise:** Create a set of quantum states that a particle can occupy, then write functions to add and remove states, ensuring no duplicates are allowed. This can introduce the concept of sets and their properties, such as uniqueness and set operations."
   ]
  },
  {
   "cell_type": "code",
   "execution_count": 9,
   "id": "1352646b-31b1-412a-93f9-ce9b21639b0f",
   "metadata": {
    "tags": []
   },
   "outputs": [
    {
     "name": "stdout",
     "output_type": "stream",
     "text": [
      "Initial quantum states: {'state3', 'state1', 'state2'}\n",
      "Quantum states after adding new states: {'state3', 'state1', 'state2', 'state4'}\n",
      "Quantum states after removal: {'state3', 'state2', 'state4'}\n"
     ]
    }
   ],
   "source": [
    "quantum_states = {'state1', 'state2', 'state3'}\n",
    "\n",
    "print(\"Initial quantum states:\", quantum_states)\n",
    "\n",
    "quantum_states.add('state4')  # This will be added\n",
    "quantum_states.add('state2')  # This will not be added as it's a duplicate\n",
    "print(\"Quantum states after adding new states:\", quantum_states)\n",
    "\n",
    "quantum_states.remove('state1')  # This will remove 'state1'\n",
    "quantum_states.discard('state5')  # This will not do anything as 'state5' does not exist\n",
    "print(\"Quantum states after removal:\", quantum_states)"
   ]
  },
  {
   "cell_type": "markdown",
   "id": "9a65eed4-3d07-43a8-a9cf-8da028f89ffa",
   "metadata": {
    "jp-MarkdownHeadingCollapsed": true,
    "tags": []
   },
   "source": [
    "### 8. **Fun with Complex Numbers: Quantum Mechanics Basics**\n",
    "\n",
    "- **Exercise:** Since complex numbers are used in quantum mechanics, perform operations with complex numbers in Python (e.g., adding wave functions). This will help to get comfortable with complex data types and their applications in physics.\n",
    "\n",
    "\n",
    "<div class=\"alert alert-info\">\n",
    "\n",
    "**Indistinguishable particles**\n",
    "    \n",
    "In quantum mechanics, indistinguishable particles are particles that cannot be distinguished from one another, even in principle.\n",
    "\n",
    "- Categories of particles: Bosons and fermions\n",
    "- Principle: Cannot be distinguished from each other even in principle\n",
    "- Examples of bosons: Photons, gluons, helium-4 nuclei\n",
    "- Examples of fermions: Electrons, neutrinos, protons\n",
    "\n",
    "Indistinguishability has important consequences in quantum mechanics in the same way as it is of importance for probability theory.\n",
    "</div>"
   ]
  },
  {
   "cell_type": "code",
   "execution_count": 8,
   "id": "4de5d9b6-b6fa-405d-b635-4f153a9b437e",
   "metadata": {
    "tags": []
   },
   "outputs": [
    {
     "name": "stdout",
     "output_type": "stream",
     "text": [
      "Wave Function 1: (3+4j)\n",
      "Wave Function 2: (1-2j)\n",
      "Sum of Wave Functions: (4+2j)\n",
      "Difference of Wave Functions: (2+6j)\n",
      "Product of Wave Functions: (11-2j)\n",
      "Quotient of Wave Functions: (-1+2j)\n",
      "Conjugate of Wave Function 1: (3-4j)\n",
      "Resultant Wave Function (psi1 + psi2): (6-2j)\n"
     ]
    }
   ],
   "source": [
    "wave_function1 = 3 + 4j\n",
    "wave_function2 = 1 - 2j\n",
    "\n",
    "sum_wave_functions = wave_function1 + wave_function2\n",
    "\n",
    "difference_wave_functions = wave_function1 - wave_function2\n",
    "\n",
    "product_wave_functions = wave_function1 * wave_function2\n",
    "\n",
    "quotient_wave_functions = wave_function1 / wave_function2\n",
    "\n",
    "conjugate_wave_function1 = wave_function1.conjugate()\n",
    "\n",
    "print(f\"Wave Function 1: {wave_function1}\")\n",
    "print(f\"Wave Function 2: {wave_function2}\")\n",
    "print(f\"Sum of Wave Functions: {sum_wave_functions}\")\n",
    "print(f\"Difference of Wave Functions: {difference_wave_functions}\")\n",
    "print(f\"Product of Wave Functions: {product_wave_functions}\")\n",
    "print(f\"Quotient of Wave Functions: {quotient_wave_functions}\")\n",
    "print(f\"Conjugate of Wave Function 1: {conjugate_wave_function1}\")\n",
    "\n",
    "\n",
    "psi1 = 2 + 3j\n",
    "psi2 = 4 - 5j\n",
    "\n",
    "psi_resultant = psi1 + psi2\n",
    "\n",
    "print(f\"Resultant Wave Function (psi1 + psi2): {psi_resultant}\")"
   ]
  }
 ],
 "metadata": {
  "kernelspec": {
   "display_name": "Python 3 (ipykernel)",
   "language": "python",
   "name": "python3"
  },
  "language_info": {
   "codemirror_mode": {
    "name": "ipython",
    "version": 3
   },
   "file_extension": ".py",
   "mimetype": "text/x-python",
   "name": "python",
   "nbconvert_exporter": "python",
   "pygments_lexer": "ipython3",
   "version": "3.8.16"
  }
 },
 "nbformat": 4,
 "nbformat_minor": 5
}
