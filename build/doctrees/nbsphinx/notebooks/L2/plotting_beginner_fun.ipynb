{
 "cells": [
  {
   "cell_type": "markdown",
   "id": "56a58351-5bc2-4345-ab79-cfe80259c750",
   "metadata": {},
   "source": [
    "### Exercise 1: Basic Line Plot\n",
    "\n",
    "**Objective:** Create a basic line plot to visualize the trend of a dataset.\n",
    "\n",
    "**Instructions:**\n",
    "\n",
    "1. Generate a list of numbers from 1 to 100 for the x-axis using `range()` or `numpy.arange()`.\n",
    "2. Create a corresponding list of values for the y-axis by applying a mathematical function (e.g., y = x^2) to the x-axis values.\n",
    "3. Use `matplotlib.pyplot` to plot the x-axis and y-axis data.\n",
    "4. Add a title to the plot as \"Basic Line Plot\".\n",
    "5. Label the x-axis as \"X-Values\" and the y-axis as \"Y-Values\".\n",
    "6. Display the plot using `plt.show()`."
   ]
  },
  {
   "cell_type": "markdown",
   "id": "f049f429-69dc-417a-9c23-2023b911dc7f",
   "metadata": {},
   "source": [
    "### Exercise 2: Bar Chart\n",
    "\n",
    "**Objective:** Create a bar chart to compare different categories of data.\n",
    "\n",
    "**Instructions:**\n",
    "\n",
    "1. Create a list of categories (e.g., 'Category A', 'Category B', 'Category C').\n",
    "2. Assign a list of values corresponding to each category.\n",
    "3. Plot a bar chart using `plt.bar()` with the categories and their values.\n",
    "4. Add a title to the chart as \"Category Value Comparison\".\n",
    "5. Label the x-axis with the category names and the y-axis as \"Values\".\n",
    "6. Display the plot."
   ]
  },
  {
   "cell_type": "markdown",
   "id": "5e69e47c-f95c-47d0-9b13-bbe4b3cbde3e",
   "metadata": {},
   "source": [
    "### Exercise 3: Scatter Plot\n",
    "\n",
    "**Objective:** Create a scatter plot to examine the relationship between two variables.\n",
    "\n",
    "**Instructions:**\n",
    "\n",
    "1. Generate two lists of random numbers of the same length for the x-axis and y-axis using `numpy.random.rand()` or `numpy.random.randint()`.\n",
    "2. Plot a scatter plot using `plt.scatter()` with the generated data.\n",
    "3. Add a title to the plot as \"Scatter Plot of Random Data\".\n",
    "4. Label the x-axis as \"Variable X\" and the y-axis as \"Variable Y\".\n",
    "5. Display the plot."
   ]
  },
  {
   "cell_type": "markdown",
   "id": "1ef47524-a169-4d15-8e2a-f8845978c09e",
   "metadata": {
    "tags": []
   },
   "source": [
    "### Exercise 4: Multiple Subplots\n",
    "\n",
    "**Objective:** Create a figure with multiple subplots showing different types of plots.\n",
    "\n",
    "**Instructions:**\n",
    "\n",
    "1. Create a figure using `plt.figure()` and add multiple subplots using `plt.subplot()`.\n",
    "2. In the first subplot, plot a sine wave using `numpy.sin()`.\n",
    "3. In the second subplot, plot a cosine wave using `numpy.cos()`.\n",
    "4. In the third subplot, plot a line plot using a linear function.\n",
    "5. In the fourth subplot, plot a scatter plot with random data.\n",
    "6. Add titles to each subplot indicating the type of plot.\n",
    "7. Label the axes appropriately for each subplot.\n",
    "8. Display the figure with all subplots.\n",
    "\n",
    "These exercises will help students practice creating different types of plots and become familiar with the basic functionalities of Matplotlib.\n"
   ]
  }
 ],
 "metadata": {
  "kernelspec": {
   "display_name": "Python 3 (ipykernel)",
   "language": "python",
   "name": "python3"
  },
  "language_info": {
   "codemirror_mode": {
    "name": "ipython",
    "version": 3
   },
   "file_extension": ".py",
   "mimetype": "text/x-python",
   "name": "python",
   "nbconvert_exporter": "python",
   "pygments_lexer": "ipython3",
   "version": "3.8.16"
  }
 },
 "nbformat": 4,
 "nbformat_minor": 5
}
