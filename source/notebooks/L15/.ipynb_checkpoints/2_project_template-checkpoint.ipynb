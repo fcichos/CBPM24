{
 "cells": [
  {
   "cell_type": "markdown",
   "metadata": {},
   "source": [
    "# Project: YOUR PROJECT TITLE"
   ]
  },
  {
   "cell_type": "markdown",
   "metadata": {},
   "source": [
    "by Max Mustermann, Matrikel # \n",
    "\n",
    "\n",
    "delete me:\n",
    "\n",
    "- Please don't forget to put your name and Matrikel #. Otherwise we cannot sort that to the right name\n",
    "- Please do one project per person. group projects will be not allowed\n",
    "- Submit the project on the molecular nanophotonics course pages\n"
   ]
  },
  {
   "cell_type": "code",
   "execution_count": 2,
   "metadata": {},
   "outputs": [],
   "source": [
    "import numpy as np\n",
    "import matplotlib.pyplot as plt\n",
    "\n",
    "## add all the module imports here at the beginning, give our usual formatting options."
   ]
  },
  {
   "cell_type": "markdown",
   "metadata": {},
   "source": [
    "## Introduction\n",
    "\n",
    "delete me:\n",
    "\n",
    "Provide an overview of the project. Introduce the topic and explain its significance. Mention any background information that is essential for understanding the project. Clearly state the objectives and the scope of the project.\n",
    "\n",
    "### Advice:\n",
    "- **Context and Importance**: Explain why the topic is relevant and interesting or you.\n",
    "- **Objectives**: Clearly state what you aim to achieve with this project.\n",
    "- **Scope**: Define the boundaries of the project. What will you cover, and what will you leave out?\n",
    "\n"
   ]
  },
  {
   "cell_type": "code",
   "execution_count": null,
   "metadata": {},
   "outputs": [],
   "source": [
    "## code goes here"
   ]
  },
  {
   "cell_type": "markdown",
   "metadata": {},
   "source": [
    "## Fundamentals\n",
    "\n",
    "\n",
    "delete me:\n",
    "\n",
    "Describe the theoretical background and fundamental principles relevant to the project. Include equations, diagrams, and references to key literature. This section should provide a solid foundation for the reader to understand the experimental or computational work presented in the Results section.\n",
    "\n",
    "### Advice:\n",
    "- **Theoretical Background**: Detail the key theories and principles that underpin your project.\n",
    "- **Key Equations**: Include and explain any important equations.\n",
    "- **Literature Review**: Reference important works that are relevant to your project. This demonstrates that you have a good grasp of the current state of research in your area.\n"
   ]
  },
  {
   "cell_type": "code",
   "execution_count": null,
   "metadata": {},
   "outputs": [],
   "source": [
    "## code goes here"
   ]
  },
  {
   "cell_type": "markdown",
   "metadata": {},
   "source": [
    "## Results and Discussion\n",
    "\n",
    "\n",
    "delete me:\n",
    "\n",
    "\n",
    "Present the results of your experiments or simulations. Include tables, graphs, and other visualizations. Discuss the implications of your results, compare them with theoretical predictions or previous studies, and explain any discrepancies.\n",
    "\n",
    "### Advice:\n",
    "- **Data Presentation**: Use clear and well-labeled graphs and tables to present your results.\n",
    "- **Analysis**: Interpret your results. What do they mean in the context of your project? How do they compare with theoretical predictions or previous research?\n",
    "- **Discussion**: Discuss the significance of your findings. What new insights do they provide? What are their implications?\n"
   ]
  },
  {
   "cell_type": "code",
   "execution_count": 3,
   "metadata": {},
   "outputs": [],
   "source": [
    "## code goes here"
   ]
  },
  {
   "cell_type": "markdown",
   "metadata": {},
   "source": [
    "## Summary\n",
    "\n",
    "delete me:\n",
    "\n",
    "Summarize the main findings of the project. Reflect on the objectives set out in the Introduction and discuss to what extent they have been achieved. Mention any limitations of the study and suggest directions for future research.\n",
    "\n",
    "### Advice:\n",
    "- **Main Findings**: Summarize the key results of your project.\n",
    "- **Achievement of Objectives**: Reflect on whether you met the objectives stated in the Introduction.\n",
    "- **Limitations and Future Work**: Acknowledge any limitations of your study and propose areas for future research.\n"
   ]
  },
  {
   "cell_type": "markdown",
   "metadata": {},
   "source": [
    "## References\n",
    "List all the references cited in your project using a consistent citation style.\n",
    "\n",
    "### Advice:\n",
    "- **Consistency**: Use a consistent citation style throughout your project.\n",
    "- **Completeness**: Ensure that all sources of information are properly credited.\n",
    "\n",
    "---\n",
    "\n",
    "## Code and Data (Optional)\n",
    "Include any code or data used in your project. Ensure that it is well-documented and easy to understand.\n",
    "\n",
    "### Advice:\n",
    "- **Documentation**: Provide comments and explanations in your code to make it easy to follow.\n",
    "- **Reproducibility**: Ensure that your code and data are sufficient for someone else to reproduce your results.\n",
    "\n",
    "---"
   ]
  }
 ],
 "metadata": {
  "kernelspec": {
   "display_name": "Python 3 (ipykernel)",
   "language": "python",
   "name": "python3"
  },
  "language_info": {
   "codemirror_mode": {
    "name": "ipython",
    "version": 3
   },
   "file_extension": ".py",
   "mimetype": "text/x-python",
   "name": "python",
   "nbconvert_exporter": "python",
   "pygments_lexer": "ipython3",
   "version": "3.8.16"
  },
  "widgets": {
   "application/vnd.jupyter.widget-state+json": {
    "state": {},
    "version_major": 2,
    "version_minor": 0
   }
  }
 },
 "nbformat": 4,
 "nbformat_minor": 4
}
